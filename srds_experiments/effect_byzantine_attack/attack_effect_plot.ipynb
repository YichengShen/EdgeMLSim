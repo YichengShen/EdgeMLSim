{
 "cells": [
  {
   "cell_type": "code",
   "execution_count": 1,
   "metadata": {},
   "outputs": [],
   "source": [
    "import pandas as pd\n",
    "import numpy as np\n",
    "import numpy.ma as ma\n",
    "import matplotlib.pyplot as plt"
   ]
  },
  {
   "cell_type": "markdown",
   "metadata": {},
   "source": [
    "# Utils\n",
    "\n",
    "Check [Numpy masked array](https://numpy.org/doc/stable/reference/maskedarray.generic.html)"
   ]
  },
  {
   "cell_type": "code",
   "execution_count": 2,
   "metadata": {},
   "outputs": [],
   "source": [
    "def read_data(file_prefix, num_data):    \n",
    "    max_len = 0\n",
    "    accu_list, loss_list, time_list = [], [], []\n",
    "    \n",
    "    # Round number starts from 1 (Rename your CSV files)\n",
    "    for round_number in range(1, num_data+1):\n",
    "        f = f'{file_prefix}-{round_number}.csv'\n",
    "        print(f)\n",
    "        df = pd.read_csv(f, header=None)\n",
    "        \n",
    "        # Append data\n",
    "        accu_list.append(df[1])\n",
    "        loss_list.append(df[2])\n",
    "        time_list.append(df[3])\n",
    "        \n",
    "        # Check max length\n",
    "        if df.shape[0] > max_len:\n",
    "            max_len = df.shape[0]\n",
    "    \n",
    "    return max_len, accu_list, loss_list, time_list\n",
    "\n",
    "\n",
    "def mask_array(num_data, max_len, data_list):\n",
    "    \"\"\"Convert data list to numpy masked array\"\"\"\n",
    "    array_masked = np.ma.empty((num_data, max_len))\n",
    "    array_masked.mask = True\n",
    "    \n",
    "    for i in range(num_data):\n",
    "        array_masked[i, :data_list[i].shape[0]] = np.array(data_list[i])\n",
    "        \n",
    "    return array_masked\n",
    "\n",
    "\n",
    "def calc_average(num_data, max_len, data_list):\n",
    "    \"\"\"\n",
    "    Get average of arrays of unequal length.\n",
    "    \"\"\"\n",
    "\n",
    "    # Mask the data\n",
    "    data_masked = mask_array(num_data, max_len, data_list)\n",
    "    \n",
    "    # Calculate averages\n",
    "    data_avg = data_masked.mean(axis=0) \n",
    "           \n",
    "    return data_avg"
   ]
  },
  {
   "cell_type": "markdown",
   "metadata": {},
   "source": [
    "# Pipeline"
   ]
  },
  {
   "cell_type": "code",
   "execution_count": 3,
   "metadata": {},
   "outputs": [],
   "source": [
    "def pipe(file_prefix, num_data):\n",
    "    max_len, accu_list, loss_list, time_list = read_data(file_prefix, num_data)\n",
    "    accu_avg = calc_average(num_data, max_len, accu_list)\n",
    "    loss_avg = calc_average(num_data, max_len, loss_list)\n",
    "    time_avg = calc_average(num_data, max_len, time_list)\n",
    "    return accu_avg, loss_avg, time_avg"
   ]
  },
  {
   "cell_type": "markdown",
   "metadata": {},
   "source": [
    "# Parameters\n",
    "- MNIST\n",
    "- 3 RSUs\n",
    "- 100 workers\n",
    "- Learning Rate = 0.001\n",
    "- Batch Size = 100\n",
    "- Edge Server range = 50\n",
    "- Number of gradients to accumulate before cloud and edge aggregations = 10\n",
    "- Number of Faulty Gradients = 2\n",
    "- Magnitude of sign-flip attack = 5\n",
    "    - Faulty layers in gradients are enlarged by 5 times.\n",
    "\n",
    "# VM Spec (GCP)\n",
    "\n",
    "Zone: us-east1-b\n",
    "\n",
    "Image: ubuntu-1804-bionic-v20210623\n",
    "\n",
    "1. Simulator (1 VM)\n",
    "    - e2-standard-2 (2 vCPUs, 8 GB memory)\n",
    "\n",
    "2. Cloud Server (1 VM)\n",
    "    - e2-standard-2 (2 vCPUs, 8 GB memory)\n",
    "\n",
    "3. Edge Servers (1 VM)\n",
    "    - e2-standard-8 (8 vCPUs, 32 GB memory)\n",
    "\n",
    "4. Workers (2 VMs - 50 workers on each VM)\n",
    "    - e2-highcpu-32 (32 vCPUs, 32 GB memory)"
   ]
  },
  {
   "cell_type": "markdown",
   "metadata": {},
   "source": [
    "# 1. SGD simple mean, sign-flip attack\n",
    "\n",
    "Only 2 runs of results were collected for this setting. Since simple mean aggregation cannot tolerate sign-flip attack, 2 runs should be sufficient."
   ]
  },
  {
   "cell_type": "code",
   "execution_count": 4,
   "metadata": {
    "scrolled": true
   },
   "outputs": [
    {
     "name": "stdout",
     "output_type": "stream",
     "text": [
      "mnist-mean-signflip_attack-1.csv\n",
      "mnist-mean-signflip_attack-2.csv\n"
     ]
    }
   ],
   "source": [
    "file_prefix = \"mnist-mean-signflip_attack\"\n",
    "num_data = 2\n",
    "\n",
    "signflip_mean_acc_avg, signflip_mean_loss_avg, signflip_mean_time_avg = pipe(file_prefix, num_data)"
   ]
  },
  {
   "cell_type": "markdown",
   "metadata": {},
   "source": [
    "# 2. SGD marginal median, sign-flip attack"
   ]
  },
  {
   "cell_type": "code",
   "execution_count": 5,
   "metadata": {},
   "outputs": [
    {
     "name": "stdout",
     "output_type": "stream",
     "text": [
      "mnist-marginal_median-signflip_attack-1.csv\n",
      "mnist-marginal_median-signflip_attack-2.csv\n",
      "mnist-marginal_median-signflip_attack-3.csv\n",
      "mnist-marginal_median-signflip_attack-4.csv\n",
      "mnist-marginal_median-signflip_attack-5.csv\n"
     ]
    }
   ],
   "source": [
    "file_prefix = \"mnist-marginal_median-signflip_attack\"\n",
    "num_data = 5\n",
    "\n",
    "signflip_median_acc_avg, signflip_median_loss_avg, signflip_median_time_avg = pipe(file_prefix, num_data)"
   ]
  },
  {
   "cell_type": "markdown",
   "metadata": {},
   "source": [
    "# 3. SGD simple mean, bit-flip attack"
   ]
  },
  {
   "cell_type": "code",
   "execution_count": 6,
   "metadata": {},
   "outputs": [
    {
     "name": "stdout",
     "output_type": "stream",
     "text": [
      "mnist-mean-bitflip_attack-1.csv\n",
      "mnist-mean-bitflip_attack-2.csv\n",
      "mnist-mean-bitflip_attack-3.csv\n",
      "mnist-mean-bitflip_attack-4.csv\n",
      "mnist-mean-bitflip_attack-5.csv\n"
     ]
    }
   ],
   "source": [
    "file_prefix = \"mnist-mean-bitflip_attack\"\n",
    "num_data = 5\n",
    "\n",
    "bitflip_mean_acc_avg, bitflip_mean_loss_avg, bitflip_mean_time_avg = pipe(file_prefix, num_data)"
   ]
  },
  {
   "cell_type": "markdown",
   "metadata": {},
   "source": [
    "# 4. SGD marginal median, bit-flip attack"
   ]
  },
  {
   "cell_type": "code",
   "execution_count": 7,
   "metadata": {},
   "outputs": [
    {
     "name": "stdout",
     "output_type": "stream",
     "text": [
      "mnist-marginal_median-bitflip_attack-1.csv\n",
      "mnist-marginal_median-bitflip_attack-2.csv\n",
      "mnist-marginal_median-bitflip_attack-3.csv\n",
      "mnist-marginal_median-bitflip_attack-4.csv\n",
      "mnist-marginal_median-bitflip_attack-5.csv\n"
     ]
    }
   ],
   "source": [
    "file_prefix = \"mnist-marginal_median-bitflip_attack\"\n",
    "num_data = 5\n",
    "\n",
    "bitflip_median_acc_avg, bitflip_median_loss_avg, bitflip_median_time_avg = pipe(file_prefix, num_data)"
   ]
  },
  {
   "cell_type": "markdown",
   "metadata": {},
   "source": [
    "# PLOT"
   ]
  },
  {
   "cell_type": "code",
   "execution_count": 8,
   "metadata": {
    "scrolled": true
   },
   "outputs": [
    {
     "name": "stderr",
     "output_type": "stream",
     "text": [
      "The PostScript backend does not support transparency; partially transparent artists will be rendered opaque.\n",
      "The PostScript backend does not support transparency; partially transparent artists will be rendered opaque.\n"
     ]
    },
    {
     "data": {
      "image/png": "[encoded data removed]",
      "text/plain": [
       "<Figure size 504x288 with 1 Axes>"
      ]
     },
     "metadata": {
      "needs_background": "light"
     },
     "output_type": "display_data"
    }
   ],
   "source": [
    "plt.figure(figsize=(7, 4))\n",
    "\n",
    "plt.plot(signflip_mean_time_avg, signflip_mean_acc_avg, linestyle='dotted', c='darkturquoise')\n",
    "plt.plot(signflip_mean_time_avg[5], signflip_mean_acc_avg[5], 'X', linestyle='dotted', label=\"Mean (Sign-flip) \", c='darkturquoise')\n",
    "\n",
    "plt.plot(signflip_median_time_avg, signflip_median_acc_avg, linestyle='--', c='royalblue')\n",
    "plt.plot(signflip_median_time_avg[8], signflip_median_acc_avg[8], '--o', label=\"Marginal Median (Sign-flip)\", c='royalblue')\n",
    "\n",
    "plt.plot(bitflip_mean_time_avg, bitflip_mean_acc_avg, linestyle='-', c='orange')\n",
    "plt.plot(bitflip_mean_time_avg[3], bitflip_mean_acc_avg[3], '-s', label=\"Mean (Bit-flip)\", c='orange')\n",
    "\n",
    "plt.plot(bitflip_median_time_avg, bitflip_median_acc_avg, linestyle='-.', c='hotpink')\n",
    "plt.plot(bitflip_median_time_avg[4], bitflip_median_acc_avg[4], '-.D', label=\"Marginal Median (Bit-flip)\", c='hotpink')\n",
    "\n",
    "X_LIM = 800\n",
    "plt.xlim(0, X_LIM)\n",
    "plt.ylim(bottom=0, top=1)\n",
    "plt.xticks(np.arange(0, X_LIM+100, 200))\n",
    "plt.yticks(np.arange(0, 1.1, 0.1))\n",
    "plt.legend(loc=4)\n",
    "plt.xlabel('Time (sec)')\n",
    "plt.ylabel(\"Accuracy\")\n",
    "plt.savefig(\"attack_effect.eps\", format='eps')\n",
    "plt.show()"
   ]
  },
  {
   "cell_type": "code",
   "execution_count": null,
   "metadata": {},
   "outputs": [],
   "source": []
  }
 ],
 "metadata": {
  "kernelspec": {
   "display_name": "Python 3",
   "language": "python",
   "name": "python3"
  },
  "language_info": {
   "codemirror_mode": {
    "name": "ipython",
    "version": 3
   },
   "file_extension": ".py",
   "mimetype": "text/x-python",
   "name": "python",
   "nbconvert_exporter": "python",
   "pygments_lexer": "ipython3",
   "version": "3.9.5"
  }
 },
 "nbformat": 4,
 "nbformat_minor": 4
}
